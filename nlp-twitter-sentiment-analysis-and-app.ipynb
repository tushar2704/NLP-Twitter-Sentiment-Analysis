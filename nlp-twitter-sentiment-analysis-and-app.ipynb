{
 "cells": [
  {
   "cell_type": "markdown",
   "id": "84dc0e90",
   "metadata": {
    "papermill": {
     "duration": 0.014514,
     "end_time": "2023-02-23T19:15:14.418110",
     "exception": false,
     "start_time": "2023-02-23T19:15:14.403596",
     "status": "completed"
    },
    "tags": []
   },
   "source": [
    "\n",
    "<div style=\"color:white;\n",
    "           display:fill;\n",
    "           border-radius:20px;\n",
    "           background-color:#F5DEB3;\n",
    "           font-size:170%;\n",
    "           font-family:Helvetica, Sans-Serif;\n",
    "           letter-spacing:0.5px\">\n",
    "<p style=\"padding: 10px;\n",
    "          text-align: center;\n",
    "          font-size:150%;\n",
    "          color:blue;\">\n",
    "          🐥🎯NLP: Twitter Sentiment Analysis and Application🐥🎯\n",
    "            \n",
    "</p>\n",
    "<style>\n",
    "        h1{text-align: center;}\n",
    "</style>  \n",
    "    \n",
    "</div>\n",
    "​\n",
    "<p style=\"font-family:cursive; font-size:15px; color:'darkcyan';\">I brewed this notebook from scratch, If this notebook helped, please consider upvoting and cite me if sharing ,Thank you!</p>\n",
    "<p style=\"width: 250px;padding: 15px;background: papayawhip;border-radius:10px;font-size:15px;border-radius:20px\">\n",
    "    <a href=\"https://www.linkedin.com/in/tusharaggarwalinseec/\" target=\"_blank\">Lets connect on LinkedIn!</a>\n",
    "    \n",
    "   </p>\n",
    "<p style=\"width: 250px;padding: 15px;background: papayawhip;border-radius:10px;font-size:15px;border-radius:20px\">\n",
    "<a href=\"https://github.com/tushar2704\" target=\"_blank\">Follow me on Github too!</a> </p>\n",
    "<p style=\"width:270px;padding: 15px;background: papayawhip;border-radius:10px;font-size:15px;border-radius:20px\">\n",
    "    <a href=\"https://medium.com/@tushar_aggarwal\" target=\"_blank\">Also checkout my Medium posts!</a>\n",
    "    \n",
    "   </p>\n",
    "​\n"
   ]
  },
  {
   "cell_type": "markdown",
   "id": "d1740850",
   "metadata": {
    "papermill": {
     "duration": 0.010306,
     "end_time": "2023-02-23T19:15:14.439271",
     "exception": false,
     "start_time": "2023-02-23T19:15:14.428965",
     "status": "completed"
    },
    "tags": []
   },
   "source": [
    "<div class=\"alert alert-info\" role=\"alert\" style=\"font-size:17px;border-radius:20px\">\n",
    "    <b>In this notebook, I am building a model to predict sentiment from thousands of tweets</b>\n",
    "    \n",
    "  </div>\n",
    "  <p style=\"width: 1000px;padding: 20px;background: papayawhip;border-radius:10px;font-size:25px;border-radius:20px\">\n",
    "    <b>🐥🎯NLP: Twitter Sentiment Analysis🐥🎯</b>\n",
    "</p>\n",
    " "
   ]
  },
  {
   "cell_type": "markdown",
   "id": "5f86ed35",
   "metadata": {
    "papermill": {
     "duration": 0.011079,
     "end_time": "2023-02-23T19:15:14.460854",
     "exception": false,
     "start_time": "2023-02-23T19:15:14.449775",
     "status": "completed"
    },
    "tags": []
   },
   "source": [
    "<p style=\"width: 1000px;padding: 20px;background: papayawhip;border-radius:10px;font-size:20px;border-radius:20px\">\n",
    "    <b>Importing the required packages</b>"
   ]
  },
  {
   "cell_type": "code",
   "execution_count": 1,
   "id": "2f456d07",
   "metadata": {
    "execution": {
     "iopub.execute_input": "2023-02-23T19:15:14.483515Z",
     "iopub.status.busy": "2023-02-23T19:15:14.482948Z",
     "iopub.status.idle": "2023-02-23T19:15:18.054525Z",
     "shell.execute_reply": "2023-02-23T19:15:18.053523Z"
    },
    "papermill": {
     "duration": 3.586319,
     "end_time": "2023-02-23T19:15:18.057574",
     "exception": false,
     "start_time": "2023-02-23T19:15:14.471255",
     "status": "completed"
    },
    "tags": []
   },
   "outputs": [],
   "source": [
    "#Data manipulation imports\n",
    "import numpy as np\n",
    "import pandas as pd\n",
    "\n",
    "#Data Visualization imports\n",
    "import matplotlib.pyplot as plt\n",
    "import seaborn as sns\n",
    "import plotly.express as px\n",
    "\n",
    "#Modeling imports\n",
    "from sklearn.model_selection import train_test_split\n",
    "from sklearn.linear_model import LogisticRegression\n",
    "import pickle\n",
    "\n",
    "#Additional imports\n",
    "import nltk, re, string\n",
    "from nltk.corpus import stopwords, twitter_samples"
   ]
  },
  {
   "cell_type": "markdown",
   "id": "d2ec8577",
   "metadata": {
    "papermill": {
     "duration": 0.006465,
     "end_time": "2023-02-23T19:15:18.072095",
     "exception": false,
     "start_time": "2023-02-23T19:15:18.065630",
     "status": "completed"
    },
    "tags": []
   },
   "source": [
    "<p style=\"width: 1000px;padding: 20px;background: papayawhip;border-radius:10px;font-size:20px;border-radius:20px\">\n",
    "    <b>Loading and checking the data</b>"
   ]
  },
  {
   "cell_type": "code",
   "execution_count": 2,
   "id": "67afeaf4",
   "metadata": {
    "execution": {
     "iopub.execute_input": "2023-02-23T19:15:18.086059Z",
     "iopub.status.busy": "2023-02-23T19:15:18.085743Z",
     "iopub.status.idle": "2023-02-23T19:15:18.196227Z",
     "shell.execute_reply": "2023-02-23T19:15:18.195218Z"
    },
    "papermill": {
     "duration": 0.120289,
     "end_time": "2023-02-23T19:15:18.198512",
     "exception": false,
     "start_time": "2023-02-23T19:15:18.078223",
     "status": "completed"
    },
    "tags": []
   },
   "outputs": [
    {
     "data": {
      "text/html": [
       "<div>\n",
       "<style scoped>\n",
       "    .dataframe tbody tr th:only-of-type {\n",
       "        vertical-align: middle;\n",
       "    }\n",
       "\n",
       "    .dataframe tbody tr th {\n",
       "        vertical-align: top;\n",
       "    }\n",
       "\n",
       "    .dataframe thead th {\n",
       "        text-align: right;\n",
       "    }\n",
       "</style>\n",
       "<table border=\"1\" class=\"dataframe\">\n",
       "  <thead>\n",
       "    <tr style=\"text-align: right;\">\n",
       "      <th></th>\n",
       "      <th>id</th>\n",
       "      <th>label</th>\n",
       "      <th>tweet</th>\n",
       "    </tr>\n",
       "  </thead>\n",
       "  <tbody>\n",
       "    <tr>\n",
       "      <th>0</th>\n",
       "      <td>1</td>\n",
       "      <td>0</td>\n",
       "      <td>@user when a father is dysfunctional and is s...</td>\n",
       "    </tr>\n",
       "    <tr>\n",
       "      <th>1</th>\n",
       "      <td>2</td>\n",
       "      <td>0</td>\n",
       "      <td>@user @user thanks for #lyft credit i can't us...</td>\n",
       "    </tr>\n",
       "    <tr>\n",
       "      <th>2</th>\n",
       "      <td>3</td>\n",
       "      <td>0</td>\n",
       "      <td>bihday your majesty</td>\n",
       "    </tr>\n",
       "    <tr>\n",
       "      <th>3</th>\n",
       "      <td>4</td>\n",
       "      <td>0</td>\n",
       "      <td>#model   i love u take with u all the time in ...</td>\n",
       "    </tr>\n",
       "    <tr>\n",
       "      <th>4</th>\n",
       "      <td>5</td>\n",
       "      <td>0</td>\n",
       "      <td>factsguide: society now    #motivation</td>\n",
       "    </tr>\n",
       "  </tbody>\n",
       "</table>\n",
       "</div>"
      ],
      "text/plain": [
       "   id  label                                              tweet\n",
       "0   1      0   @user when a father is dysfunctional and is s...\n",
       "1   2      0  @user @user thanks for #lyft credit i can't us...\n",
       "2   3      0                                bihday your majesty\n",
       "3   4      0  #model   i love u take with u all the time in ...\n",
       "4   5      0             factsguide: society now    #motivation"
      ]
     },
     "execution_count": 2,
     "metadata": {},
     "output_type": "execute_result"
    }
   ],
   "source": [
    "#Loading and printing head of df\n",
    "tweet =pd.read_csv(\"/kaggle/input/nlptwitter/twitter.csv\",index_col=None)\n",
    "tweet.head()"
   ]
  },
  {
   "cell_type": "code",
   "execution_count": 3,
   "id": "6f685f8f",
   "metadata": {
    "execution": {
     "iopub.execute_input": "2023-02-23T19:15:18.213627Z",
     "iopub.status.busy": "2023-02-23T19:15:18.212679Z",
     "iopub.status.idle": "2023-02-23T19:15:18.235978Z",
     "shell.execute_reply": "2023-02-23T19:15:18.234541Z"
    },
    "papermill": {
     "duration": 0.033831,
     "end_time": "2023-02-23T19:15:18.239065",
     "exception": false,
     "start_time": "2023-02-23T19:15:18.205234",
     "status": "completed"
    },
    "tags": []
   },
   "outputs": [
    {
     "name": "stdout",
     "output_type": "stream",
     "text": [
      "<class 'pandas.core.frame.DataFrame'>\n",
      "RangeIndex: 31962 entries, 0 to 31961\n",
      "Data columns (total 3 columns):\n",
      " #   Column  Non-Null Count  Dtype \n",
      "---  ------  --------------  ----- \n",
      " 0   id      31962 non-null  int64 \n",
      " 1   label   31962 non-null  int64 \n",
      " 2   tweet   31962 non-null  object\n",
      "dtypes: int64(2), object(1)\n",
      "memory usage: 749.2+ KB\n"
     ]
    }
   ],
   "source": [
    "#Chekcing summary of the tweet df\n",
    "tweet.info()"
   ]
  },
  {
   "cell_type": "code",
   "execution_count": 4,
   "id": "dfb051d2",
   "metadata": {
    "execution": {
     "iopub.execute_input": "2023-02-23T19:15:18.253750Z",
     "iopub.status.busy": "2023-02-23T19:15:18.253475Z",
     "iopub.status.idle": "2023-02-23T19:15:18.280017Z",
     "shell.execute_reply": "2023-02-23T19:15:18.278985Z"
    },
    "papermill": {
     "duration": 0.036101,
     "end_time": "2023-02-23T19:15:18.282208",
     "exception": false,
     "start_time": "2023-02-23T19:15:18.246107",
     "status": "completed"
    },
    "tags": []
   },
   "outputs": [
    {
     "data": {
      "text/html": [
       "<div>\n",
       "<style scoped>\n",
       "    .dataframe tbody tr th:only-of-type {\n",
       "        vertical-align: middle;\n",
       "    }\n",
       "\n",
       "    .dataframe tbody tr th {\n",
       "        vertical-align: top;\n",
       "    }\n",
       "\n",
       "    .dataframe thead th {\n",
       "        text-align: right;\n",
       "    }\n",
       "</style>\n",
       "<table border=\"1\" class=\"dataframe\">\n",
       "  <thead>\n",
       "    <tr style=\"text-align: right;\">\n",
       "      <th></th>\n",
       "      <th>tweet</th>\n",
       "    </tr>\n",
       "  </thead>\n",
       "  <tbody>\n",
       "    <tr>\n",
       "      <th>count</th>\n",
       "      <td>31962</td>\n",
       "    </tr>\n",
       "    <tr>\n",
       "      <th>unique</th>\n",
       "      <td>29530</td>\n",
       "    </tr>\n",
       "    <tr>\n",
       "      <th>top</th>\n",
       "      <td>#model   i love u take with u all the time in ...</td>\n",
       "    </tr>\n",
       "    <tr>\n",
       "      <th>freq</th>\n",
       "      <td>319</td>\n",
       "    </tr>\n",
       "  </tbody>\n",
       "</table>\n",
       "</div>"
      ],
      "text/plain": [
       "                                                    tweet\n",
       "count                                               31962\n",
       "unique                                              29530\n",
       "top     #model   i love u take with u all the time in ...\n",
       "freq                                                  319"
      ]
     },
     "execution_count": 4,
     "metadata": {},
     "output_type": "execute_result"
    }
   ],
   "source": [
    "#Checking for statistical info\n",
    "tweet.describe(include='O')"
   ]
  },
  {
   "cell_type": "code",
   "execution_count": 5,
   "id": "f3a39288",
   "metadata": {
    "execution": {
     "iopub.execute_input": "2023-02-23T19:15:18.298244Z",
     "iopub.status.busy": "2023-02-23T19:15:18.297963Z",
     "iopub.status.idle": "2023-02-23T19:15:18.308263Z",
     "shell.execute_reply": "2023-02-23T19:15:18.307297Z"
    },
    "papermill": {
     "duration": 0.020865,
     "end_time": "2023-02-23T19:15:18.310436",
     "exception": false,
     "start_time": "2023-02-23T19:15:18.289571",
     "status": "completed"
    },
    "tags": []
   },
   "outputs": [
    {
     "data": {
      "text/html": [
       "<div>\n",
       "<style scoped>\n",
       "    .dataframe tbody tr th:only-of-type {\n",
       "        vertical-align: middle;\n",
       "    }\n",
       "\n",
       "    .dataframe tbody tr th {\n",
       "        vertical-align: top;\n",
       "    }\n",
       "\n",
       "    .dataframe thead th {\n",
       "        text-align: right;\n",
       "    }\n",
       "</style>\n",
       "<table border=\"1\" class=\"dataframe\">\n",
       "  <thead>\n",
       "    <tr style=\"text-align: right;\">\n",
       "      <th></th>\n",
       "      <th>label</th>\n",
       "      <th>tweet</th>\n",
       "    </tr>\n",
       "  </thead>\n",
       "  <tbody>\n",
       "    <tr>\n",
       "      <th>0</th>\n",
       "      <td>0</td>\n",
       "      <td>@user when a father is dysfunctional and is s...</td>\n",
       "    </tr>\n",
       "    <tr>\n",
       "      <th>1</th>\n",
       "      <td>0</td>\n",
       "      <td>@user @user thanks for #lyft credit i can't us...</td>\n",
       "    </tr>\n",
       "    <tr>\n",
       "      <th>2</th>\n",
       "      <td>0</td>\n",
       "      <td>bihday your majesty</td>\n",
       "    </tr>\n",
       "    <tr>\n",
       "      <th>3</th>\n",
       "      <td>0</td>\n",
       "      <td>#model   i love u take with u all the time in ...</td>\n",
       "    </tr>\n",
       "    <tr>\n",
       "      <th>4</th>\n",
       "      <td>0</td>\n",
       "      <td>factsguide: society now    #motivation</td>\n",
       "    </tr>\n",
       "  </tbody>\n",
       "</table>\n",
       "</div>"
      ],
      "text/plain": [
       "   label                                              tweet\n",
       "0      0   @user when a father is dysfunctional and is s...\n",
       "1      0  @user @user thanks for #lyft credit i can't us...\n",
       "2      0                                bihday your majesty\n",
       "3      0  #model   i love u take with u all the time in ...\n",
       "4      0             factsguide: society now    #motivation"
      ]
     },
     "execution_count": 5,
     "metadata": {},
     "output_type": "execute_result"
    }
   ],
   "source": [
    "#Dropping redundant columns\n",
    "tweet = tweet.drop(['id'], axis=1)\n",
    "tweet.head()"
   ]
  },
  {
   "cell_type": "markdown",
   "id": "64677093",
   "metadata": {
    "papermill": {
     "duration": 0.006885,
     "end_time": "2023-02-23T19:15:18.324271",
     "exception": false,
     "start_time": "2023-02-23T19:15:18.317386",
     "status": "completed"
    },
    "tags": []
   },
   "source": [
    "<p style=\"width: 1000px;padding: 20px;background: papayawhip;border-radius:10px;font-size:20px;border-radius:20px\">\n",
    "    <b>Some EDA</b>"
   ]
  },
  {
   "cell_type": "code",
   "execution_count": 6,
   "id": "0cb155cb",
   "metadata": {
    "execution": {
     "iopub.execute_input": "2023-02-23T19:15:18.339857Z",
     "iopub.status.busy": "2023-02-23T19:15:18.338894Z",
     "iopub.status.idle": "2023-02-23T19:15:18.599250Z",
     "shell.execute_reply": "2023-02-23T19:15:18.598225Z"
    },
    "papermill": {
     "duration": 0.270225,
     "end_time": "2023-02-23T19:15:18.601363",
     "exception": false,
     "start_time": "2023-02-23T19:15:18.331138",
     "status": "completed"
    },
    "tags": []
   },
   "outputs": [
    {
     "data": {
      "text/plain": [
       "label    0\n",
       "tweet    0\n",
       "dtype: int64"
      ]
     },
     "execution_count": 6,
     "metadata": {},
     "output_type": "execute_result"
    },
    {
     "data": {
      "image/png": "[encoded data removed]",
      "text/plain": [
       "<Figure size 640x480 with 1 Axes>"
      ]
     },
     "metadata": {},
     "output_type": "display_data"
    }
   ],
   "source": [
    "#Heatmap to find isnull\n",
    "sns.heatmap(tweet.isnull(),yticklabels=False, cbar=False,cmap='Blues' )\n",
    "#or\n",
    "tweet.isna().sum().sort_values(ascending=False)"
   ]
  },
  {
   "cell_type": "code",
   "execution_count": 7,
   "id": "4bb836ab",
   "metadata": {
    "execution": {
     "iopub.execute_input": "2023-02-23T19:15:18.618004Z",
     "iopub.status.busy": "2023-02-23T19:15:18.617057Z",
     "iopub.status.idle": "2023-02-23T19:15:18.808236Z",
     "shell.execute_reply": "2023-02-23T19:15:18.807250Z"
    },
    "papermill": {
     "duration": 0.201821,
     "end_time": "2023-02-23T19:15:18.810507",
     "exception": false,
     "start_time": "2023-02-23T19:15:18.608686",
     "status": "completed"
    },
    "tags": []
   },
   "outputs": [
    {
     "name": "stdout",
     "output_type": "stream",
     "text": [
      "0    29720\n",
      "1     2242\n",
      "Name: label, dtype: int64\n"
     ]
    },
    {
     "data": {
      "text/plain": [
       "<AxesSubplot:xlabel='label', ylabel='count'>"
      ]
     },
     "execution_count": 7,
     "metadata": {},
     "output_type": "execute_result"
    },
    {
     "data": {
      "image/png": "[encoded data removed]",
      "text/plain": [
       "<Figure size 640x480 with 1 Axes>"
      ]
     },
     "metadata": {},
     "output_type": "display_data"
    }
   ],
   "source": [
    "#Checking the balance of the Target variable\n",
    "print(tweet['label'].value_counts())\n",
    "\n",
    "#or\n",
    "#Countplot for target valiable\n",
    "sns.countplot(x='label', data=tweet, label='Count')"
   ]
  },
  {
   "cell_type": "markdown",
   "id": "3d51ed37",
   "metadata": {
    "papermill": {
     "duration": 0.007743,
     "end_time": "2023-02-23T19:15:18.826156",
     "exception": false,
     "start_time": "2023-02-23T19:15:18.818413",
     "status": "completed"
    },
    "tags": []
   },
   "source": [
    "<p style=\"width: 1000px;padding: 20px;background: papayawhip;border-radius:10px;font-size:20px;border-radius:20px\">\n",
    "    <b>Data Wrangling</b>"
   ]
  },
  {
   "cell_type": "code",
   "execution_count": 8,
   "id": "0c922ddd",
   "metadata": {
    "execution": {
     "iopub.execute_input": "2023-02-23T19:15:18.842581Z",
     "iopub.status.busy": "2023-02-23T19:15:18.842211Z",
     "iopub.status.idle": "2023-02-23T19:15:18.850091Z",
     "shell.execute_reply": "2023-02-23T19:15:18.849109Z"
    },
    "papermill": {
     "duration": 0.018621,
     "end_time": "2023-02-23T19:15:18.852187",
     "exception": false,
     "start_time": "2023-02-23T19:15:18.833566",
     "status": "completed"
    },
    "tags": []
   },
   "outputs": [],
   "source": [
    "#Preprocessing the tweets data\n",
    "\n",
    "def process_tweet(tweet):\n",
    "    stemmer = nltk.PorterStemmer()\n",
    "    stopwords_english = stopwords.words('english')\n",
    "    tweet = re.sub(r'\\$\\w*', '', tweet)\n",
    "    tweet = re.sub(r'^RT[\\s]+', '', tweet)\n",
    "    tweet = re.sub(r'https?:\\/\\/.*[\\r\\n]*', '', tweet)\n",
    "    tweet = re.sub(r'#', '', tweet)\n",
    "    tokenizer = nltk.TweetTokenizer(preserve_case=False, strip_handles=True, reduce_len=True)\n",
    "    tweet_tokens = tokenizer.tokenize(tweet)\n",
    "\n",
    "    tweets_clean = []\n",
    "    for word in tweet_tokens:\n",
    "        if (word not in stopwords_english and\n",
    "                word not in string.punctuation):\n",
    "            stem_word = stemmer.stem(word)  # stemming word\n",
    "            tweets_clean.append(stem_word)\n",
    "\n",
    "    return tweets_clean"
   ]
  },
  {
   "cell_type": "code",
   "execution_count": 9,
   "id": "993403b9",
   "metadata": {
    "execution": {
     "iopub.execute_input": "2023-02-23T19:15:18.868812Z",
     "iopub.status.busy": "2023-02-23T19:15:18.868167Z",
     "iopub.status.idle": "2023-02-23T19:15:18.875652Z",
     "shell.execute_reply": "2023-02-23T19:15:18.874755Z"
    },
    "papermill": {
     "duration": 0.018236,
     "end_time": "2023-02-23T19:15:18.877739",
     "exception": false,
     "start_time": "2023-02-23T19:15:18.859503",
     "status": "completed"
    },
    "tags": []
   },
   "outputs": [],
   "source": [
    "#Defining build_freqa for feature varibale frequencies\n",
    "\n",
    "def build_freqs(tweets, ys):\n",
    "    \"\"\"Build frequencies.\n",
    "    Input:\n",
    "        tweets: a list of tweets\n",
    "        ys: an m x 1 array with the sentiment label of each tweet\n",
    "            (either 0 or 1)\n",
    "    Output:\n",
    "        freqs: a dictionary mapping each (word, sentiment) pair to its\n",
    "        frequency\n",
    "    \"\"\"\n",
    "    \n",
    "    yslist = np.squeeze(ys).tolist()\n",
    "\n",
    "    \n",
    "    freqs = {}\n",
    "    for y, tweet in zip(yslist, tweets):\n",
    "        for word in process_tweet(tweet):\n",
    "            pair = (word, y)\n",
    "            if pair in freqs:\n",
    "                freqs[pair] += 1\n",
    "            else:\n",
    "                freqs[pair] = 1\n",
    "\n",
    "    return freqs"
   ]
  },
  {
   "cell_type": "code",
   "execution_count": 10,
   "id": "61dc7535",
   "metadata": {
    "execution": {
     "iopub.execute_input": "2023-02-23T19:15:18.895038Z",
     "iopub.status.busy": "2023-02-23T19:15:18.893594Z",
     "iopub.status.idle": "2023-02-23T19:15:19.115792Z",
     "shell.execute_reply": "2023-02-23T19:15:19.113857Z"
    },
    "papermill": {
     "duration": 0.233644,
     "end_time": "2023-02-23T19:15:19.118793",
     "exception": false,
     "start_time": "2023-02-23T19:15:18.885149",
     "status": "completed"
    },
    "tags": []
   },
   "outputs": [
    {
     "name": "stderr",
     "output_type": "stream",
     "text": [
      "[nltk_data] Downloading package twitter_samples to\n",
      "[nltk_data]     /usr/share/nltk_data...\n",
      "[nltk_data]   Package twitter_samples is already up-to-date!\n",
      "[nltk_data] Downloading package stopwords to /usr/share/nltk_data...\n",
      "[nltk_data]   Package stopwords is already up-to-date!\n"
     ]
    },
    {
     "data": {
      "text/plain": [
       "True"
      ]
     },
     "execution_count": 10,
     "metadata": {},
     "output_type": "execute_result"
    }
   ],
   "source": [
    "nltk.download('twitter_samples')\n",
    "nltk.download('stopwords')"
   ]
  },
  {
   "cell_type": "code",
   "execution_count": 11,
   "id": "6148365f",
   "metadata": {
    "execution": {
     "iopub.execute_input": "2023-02-23T19:15:19.137100Z",
     "iopub.status.busy": "2023-02-23T19:15:19.136798Z",
     "iopub.status.idle": "2023-02-23T19:15:19.868357Z",
     "shell.execute_reply": "2023-02-23T19:15:19.867093Z"
    },
    "papermill": {
     "duration": 0.74357,
     "end_time": "2023-02-23T19:15:19.870984",
     "exception": false,
     "start_time": "2023-02-23T19:15:19.127414",
     "status": "completed"
    },
    "tags": []
   },
   "outputs": [],
   "source": [
    "#Setting positive and negatives \n",
    "\n",
    "pos_tweets = twitter_samples.strings('positive_tweets.json')\n",
    "neg_tweets = twitter_samples.strings('negative_tweets.json')"
   ]
  },
  {
   "cell_type": "markdown",
   "id": "d990c5bc",
   "metadata": {
    "papermill": {
     "duration": 0.008175,
     "end_time": "2023-02-23T19:15:19.887512",
     "exception": false,
     "start_time": "2023-02-23T19:15:19.879337",
     "status": "completed"
    },
    "tags": []
   },
   "source": [
    "<p style=\"width: 1000px;padding: 20px;background: papayawhip;border-radius:10px;font-size:20px;border-radius:20px\">\n",
    "    <b>Training and Model Evaluating</b>"
   ]
  },
  {
   "cell_type": "code",
   "execution_count": 12,
   "id": "6d544c9c",
   "metadata": {
    "execution": {
     "iopub.execute_input": "2023-02-23T19:15:19.904935Z",
     "iopub.status.busy": "2023-02-23T19:15:19.904079Z",
     "iopub.status.idle": "2023-02-23T19:15:19.910409Z",
     "shell.execute_reply": "2023-02-23T19:15:19.909502Z"
    },
    "papermill": {
     "duration": 0.017366,
     "end_time": "2023-02-23T19:15:19.912565",
     "exception": false,
     "start_time": "2023-02-23T19:15:19.895199",
     "status": "completed"
    },
    "tags": []
   },
   "outputs": [],
   "source": [
    "#Splitting into training and testing sets\n",
    "train_pos = pos_tweets[:4000]\n",
    "test_pos = pos_tweets[4000:]\n",
    "train_neg =neg_tweets[:4000]\n",
    "test_neg = neg_tweets[4000:]\n",
    "\n",
    "#combining\n",
    "X_train =train_pos +train_neg\n",
    "X_test =test_pos+test_neg"
   ]
  },
  {
   "cell_type": "code",
   "execution_count": 13,
   "id": "bab4612b",
   "metadata": {
    "execution": {
     "iopub.execute_input": "2023-02-23T19:15:19.929425Z",
     "iopub.status.busy": "2023-02-23T19:15:19.929107Z",
     "iopub.status.idle": "2023-02-23T19:15:19.934831Z",
     "shell.execute_reply": "2023-02-23T19:15:19.933770Z"
    },
    "papermill": {
     "duration": 0.016156,
     "end_time": "2023-02-23T19:15:19.936783",
     "exception": false,
     "start_time": "2023-02-23T19:15:19.920627",
     "status": "completed"
    },
    "tags": []
   },
   "outputs": [],
   "source": [
    "#Combining negative and positive labes\n",
    "\n",
    "y_train = np.append(np.ones((len(train_pos), 1)), np.zeros((len(train_neg), 1)), axis=0)\n",
    "y_test = np.append(np.ones((len(test_pos), 1)), np.zeros((len(test_neg), 1)), axis=0)"
   ]
  },
  {
   "cell_type": "code",
   "execution_count": 14,
   "id": "1d7b9346",
   "metadata": {
    "execution": {
     "iopub.execute_input": "2023-02-23T19:15:19.953743Z",
     "iopub.status.busy": "2023-02-23T19:15:19.952946Z",
     "iopub.status.idle": "2023-02-23T19:15:23.672957Z",
     "shell.execute_reply": "2023-02-23T19:15:23.671888Z"
    },
    "papermill": {
     "duration": 3.730773,
     "end_time": "2023-02-23T19:15:23.675445",
     "exception": false,
     "start_time": "2023-02-23T19:15:19.944672",
     "status": "completed"
    },
    "tags": []
   },
   "outputs": [],
   "source": [
    "#Creating freq dictionary\n",
    "freq = build_freqs(X_train, y_train)"
   ]
  },
  {
   "cell_type": "code",
   "execution_count": 15,
   "id": "7bb0d960",
   "metadata": {
    "execution": {
     "iopub.execute_input": "2023-02-23T19:15:23.694756Z",
     "iopub.status.busy": "2023-02-23T19:15:23.694440Z",
     "iopub.status.idle": "2023-02-23T19:15:23.700426Z",
     "shell.execute_reply": "2023-02-23T19:15:23.699452Z"
    },
    "papermill": {
     "duration": 0.017766,
     "end_time": "2023-02-23T19:15:23.702905",
     "exception": false,
     "start_time": "2023-02-23T19:15:23.685139",
     "status": "completed"
    },
    "tags": []
   },
   "outputs": [
    {
     "name": "stdout",
     "output_type": "stream",
     "text": [
      "type(freq) = <class 'dict'>\n",
      "len(freq) = 11337\n"
     ]
    }
   ],
   "source": [
    "#Checking for out the output\n",
    "\n",
    "print(\"type(freq) = \" + str(type(freq)))\n",
    "print(\"len(freq) = \" + str(len(freq.keys())))"
   ]
  },
  {
   "cell_type": "code",
   "execution_count": 16,
   "id": "464e6a65",
   "metadata": {
    "execution": {
     "iopub.execute_input": "2023-02-23T19:15:23.719618Z",
     "iopub.status.busy": "2023-02-23T19:15:23.719340Z",
     "iopub.status.idle": "2023-02-23T19:15:23.727139Z",
     "shell.execute_reply": "2023-02-23T19:15:23.725590Z"
    },
    "papermill": {
     "duration": 0.01932,
     "end_time": "2023-02-23T19:15:23.729918",
     "exception": false,
     "start_time": "2023-02-23T19:15:23.710598",
     "status": "completed"
    },
    "tags": []
   },
   "outputs": [
    {
     "name": "stdout",
     "output_type": "stream",
     "text": [
      "This is an example of a positive tweet: \n",
      " @gculloty87 Yeah I suppose she was lol! Chat in a bit just off out x :))\n",
      "\n",
      "This is an example of the processed version of the tweet: \n",
      " ['yeah', 'suppos', 'lol', 'chat', 'bit', 'x', ':)']\n"
     ]
    }
   ],
   "source": [
    "#testing the function below\n",
    "\n",
    "print('This is an example of a positive tweet: \\n', X_train[22])\n",
    "print('\\nThis is an example of the processed version of the tweet: \\n', process_tweet(X_train[22]))"
   ]
  },
  {
   "cell_type": "code",
   "execution_count": 17,
   "id": "41998d20",
   "metadata": {
    "execution": {
     "iopub.execute_input": "2023-02-23T19:15:23.748214Z",
     "iopub.status.busy": "2023-02-23T19:15:23.747417Z",
     "iopub.status.idle": "2023-02-23T19:15:23.752888Z",
     "shell.execute_reply": "2023-02-23T19:15:23.752013Z"
    },
    "papermill": {
     "duration": 0.016567,
     "end_time": "2023-02-23T19:15:23.754975",
     "exception": false,
     "start_time": "2023-02-23T19:15:23.738408",
     "status": "completed"
    },
    "tags": []
   },
   "outputs": [],
   "source": [
    "#  Logistic regression\n",
    "\n",
    "# Sigmoid Function\n",
    "def sigmoid(z):\n",
    "    \"\"\"\n",
    "    Input:\n",
    "        z: is the input (can be a scalar or an array)\n",
    "    Output:\n",
    "        h: the sigmoid of z\n",
    "    \"\"\"\n",
    "    zz = np.negative(z)\n",
    "    h = 1 / (1 + np.exp(zz))\n",
    "    return h"
   ]
  },
  {
   "cell_type": "code",
   "execution_count": 18,
   "id": "3ef25406",
   "metadata": {
    "execution": {
     "iopub.execute_input": "2023-02-23T19:15:23.773370Z",
     "iopub.status.busy": "2023-02-23T19:15:23.772520Z",
     "iopub.status.idle": "2023-02-23T19:15:23.780180Z",
     "shell.execute_reply": "2023-02-23T19:15:23.779313Z"
    },
    "papermill": {
     "duration": 0.019016,
     "end_time": "2023-02-23T19:15:23.782165",
     "exception": false,
     "start_time": "2023-02-23T19:15:23.763149",
     "status": "completed"
    },
    "tags": []
   },
   "outputs": [],
   "source": [
    "# Cost function and Gradient\n",
    "def gradientDescent(x, y, theta, alpha, num_iters):\n",
    "    \"\"\"\n",
    "    Input:\n",
    "        x: matrix of features which is (m,n+1)\n",
    "        y: corresponding labels of the input matrix x, dimensions (m,1)\n",
    "        theta: weight vector of dimension (n+1,1)\n",
    "        alpha: learning rate\n",
    "        num_iters: number of iterations you want to train your model for\n",
    "    Output:\n",
    "        J: the final cost\n",
    "        theta: your final weight vector\n",
    "    Hint: you might want to print the cost to make sure that it is going down.\n",
    "    \"\"\"\n",
    "    # get 'm', the number of rows in matrix x\n",
    "    m = x.shape[0]\n",
    "    for i in range(0, num_iters):\n",
    "        z = np.dot(x, theta)\n",
    "        h = sigmoid(z)\n",
    "        # calculate the cost function\n",
    "        cost = -1. / m * (np.dot(y.transpose(), np.log(h)) + np.dot((1 - y).transpose(), np.log(1 - h)))\n",
    "        # update the weights theta\n",
    "        theta = theta - (alpha / m) * np.dot(x.transpose(), (h - y))\n",
    "\n",
    "    cost = float(cost)\n",
    "    return cost, theta"
   ]
  },
  {
   "cell_type": "code",
   "execution_count": 19,
   "id": "0f96cc6e",
   "metadata": {
    "execution": {
     "iopub.execute_input": "2023-02-23T19:15:23.800157Z",
     "iopub.status.busy": "2023-02-23T19:15:23.799223Z",
     "iopub.status.idle": "2023-02-23T19:15:23.806167Z",
     "shell.execute_reply": "2023-02-23T19:15:23.805274Z"
    },
    "papermill": {
     "duration": 0.017994,
     "end_time": "2023-02-23T19:15:23.808269",
     "exception": false,
     "start_time": "2023-02-23T19:15:23.790275",
     "status": "completed"
    },
    "tags": []
   },
   "outputs": [],
   "source": [
    "#  Extracting the features\n",
    "\n",
    "def extract_features(tweet, freqs):\n",
    "    \"\"\"\n",
    "    Input:\n",
    "        tweet: a list of words for one tweet\n",
    "        freqs: a dictionary corresponding to the frequencies of each tuple (word, label)\n",
    "    Output:\n",
    "        x: a feature vector of dimension (1,3)\n",
    "    \"\"\"\n",
    "\n",
    "    word_l = process_tweet(tweet)\n",
    "    x = np.zeros((1, 3))\n",
    "\n",
    "    # bias term is set to 1\n",
    "    x[0, 0] = 1\n",
    "\n",
    "    for word in word_l:\n",
    "        # increment the word count for the positive label 1\n",
    "        x[0, 1] += freqs.get((word, 1.0), 0)\n",
    "        # increment the word count for the negative label 0\n",
    "        x[0, 2] += freqs.get((word, 0.0), 0)\n",
    "\n",
    "    assert (x.shape == (1, 3))\n",
    "    return x"
   ]
  },
  {
   "cell_type": "code",
   "execution_count": 20,
   "id": "bb0dc4d1",
   "metadata": {
    "execution": {
     "iopub.execute_input": "2023-02-23T19:15:23.826541Z",
     "iopub.status.busy": "2023-02-23T19:15:23.825683Z",
     "iopub.status.idle": "2023-02-23T19:15:23.833346Z",
     "shell.execute_reply": "2023-02-23T19:15:23.831746Z"
    },
    "papermill": {
     "duration": 0.019668,
     "end_time": "2023-02-23T19:15:23.836179",
     "exception": false,
     "start_time": "2023-02-23T19:15:23.816511",
     "status": "completed"
    },
    "tags": []
   },
   "outputs": [
    {
     "name": "stdout",
     "output_type": "stream",
     "text": [
      "[[1.000e+00 3.006e+03 1.240e+02]]\n"
     ]
    }
   ],
   "source": [
    "# test on training data\n",
    "\n",
    "tmp1 = extract_features(X_train[22], freq)\n",
    "print(tmp1)"
   ]
  },
  {
   "cell_type": "code",
   "execution_count": 21,
   "id": "6767c8f4",
   "metadata": {
    "execution": {
     "iopub.execute_input": "2023-02-23T19:15:23.854525Z",
     "iopub.status.busy": "2023-02-23T19:15:23.853717Z",
     "iopub.status.idle": "2023-02-23T19:15:28.383083Z",
     "shell.execute_reply": "2023-02-23T19:15:28.381678Z"
    },
    "papermill": {
     "duration": 4.54272,
     "end_time": "2023-02-23T19:15:28.387553",
     "exception": false,
     "start_time": "2023-02-23T19:15:23.844833",
     "status": "completed"
    },
    "tags": []
   },
   "outputs": [],
   "source": [
    "# Training the Model\n",
    "\n",
    "# collect the features 'x' and stack them into a matrix 'X'\n",
    "X = np.zeros((len(X_train), 3))\n",
    "for i in range(len(X_train)):\n",
    "    X[i, :] = extract_features(X_train[i], freq)\n",
    "\n",
    "# training labels corresponding to X\n",
    "Y = y_train\n",
    "\n",
    "# Apply gradient descent\n",
    "# these values are predefined (Andrew NG)\n",
    "J, theta = gradientDescent(X, Y, np.zeros((3, 1)), 1e-9, 1500)"
   ]
  },
  {
   "cell_type": "code",
   "execution_count": 22,
   "id": "df77ffcb",
   "metadata": {
    "execution": {
     "iopub.execute_input": "2023-02-23T19:15:28.429514Z",
     "iopub.status.busy": "2023-02-23T19:15:28.428885Z",
     "iopub.status.idle": "2023-02-23T19:15:28.439975Z",
     "shell.execute_reply": "2023-02-23T19:15:28.437134Z"
    },
    "papermill": {
     "duration": 0.037886,
     "end_time": "2023-02-23T19:15:28.445996",
     "exception": false,
     "start_time": "2023-02-23T19:15:28.408110",
     "status": "completed"
    },
    "tags": []
   },
   "outputs": [],
   "source": [
    "def predict_tweet(tweet, freq, theta):\n",
    "    \"\"\"\n",
    "    Input:\n",
    "        tweet: a string\n",
    "        freqs: a dictionary corresponding to the frequencies of each tuple (word, label)\n",
    "        theta: (3,1) vector of weights\n",
    "    Output:\n",
    "        y_pred: the probability of a tweet being positive or negative\n",
    "    \"\"\"\n",
    "    # extract the features of the tweet and store it into x\n",
    "    x = extract_features(tweet, freq)\n",
    "    y_pred = sigmoid(np.dot(x, theta))\n",
    "\n",
    "    return y_pred"
   ]
  },
  {
   "cell_type": "code",
   "execution_count": 23,
   "id": "8568c0c3",
   "metadata": {
    "execution": {
     "iopub.execute_input": "2023-02-23T19:15:28.487339Z",
     "iopub.status.busy": "2023-02-23T19:15:28.486646Z",
     "iopub.status.idle": "2023-02-23T19:15:28.500541Z",
     "shell.execute_reply": "2023-02-23T19:15:28.499361Z"
    },
    "papermill": {
     "duration": 0.038461,
     "end_time": "2023-02-23T19:15:28.503939",
     "exception": false,
     "start_time": "2023-02-23T19:15:28.465478",
     "status": "completed"
    },
    "tags": []
   },
   "outputs": [],
   "source": [
    "def test_logistic_regression(X_test, y_test, freq, theta):\n",
    "    \"\"\"\n",
    "    Input:\n",
    "        test_x: a list of tweets\n",
    "        test_y: (m, 1) vector with the corresponding labels for the list of tweets\n",
    "        freqs: a dictionary with the frequency of each pair (or tuple)\n",
    "        theta: weight vector of dimension (3, 1)\n",
    "    Output:\n",
    "        accuracy: (# of tweets classified correctly) / (total # of tweets)\n",
    "    \"\"\"\n",
    "    # the list for storing predictions\n",
    "    y_hat = []\n",
    "\n",
    "    for tweet in X_test:\n",
    "        # get the label prediction for the tweet\n",
    "        y_pred = predict_tweet(tweet, freq, theta)\n",
    "        if y_pred > 0.5:\n",
    "            y_hat.append(1)\n",
    "        else:\n",
    "            y_hat.append(0)\n",
    "\n",
    "    accuracy = (y_hat == np.squeeze(y_test)).sum() / len(X_test)\n",
    "\n",
    "    return accuracy"
   ]
  },
  {
   "cell_type": "code",
   "execution_count": 24,
   "id": "8ccb0a12",
   "metadata": {
    "execution": {
     "iopub.execute_input": "2023-02-23T19:15:28.526851Z",
     "iopub.status.busy": "2023-02-23T19:15:28.526580Z",
     "iopub.status.idle": "2023-02-23T19:15:29.662043Z",
     "shell.execute_reply": "2023-02-23T19:15:29.660369Z"
    },
    "papermill": {
     "duration": 1.147356,
     "end_time": "2023-02-23T19:15:29.665275",
     "exception": false,
     "start_time": "2023-02-23T19:15:28.517919",
     "status": "completed"
    },
    "tags": []
   },
   "outputs": [
    {
     "name": "stdout",
     "output_type": "stream",
     "text": [
      "Logistic regression model's accuracy = 0.9950\n"
     ]
    }
   ],
   "source": [
    "tmp_accuracy = test_logistic_regression(X_test, y_test, freq, theta)\n",
    "print(f\"Logistic regression model's accuracy = {tmp_accuracy:.4f}\")"
   ]
  },
  {
   "cell_type": "code",
   "execution_count": 25,
   "id": "7fe79802",
   "metadata": {
    "execution": {
     "iopub.execute_input": "2023-02-23T19:15:29.684839Z",
     "iopub.status.busy": "2023-02-23T19:15:29.684539Z",
     "iopub.status.idle": "2023-02-23T19:15:29.690206Z",
     "shell.execute_reply": "2023-02-23T19:15:29.689313Z"
    },
    "papermill": {
     "duration": 0.017414,
     "end_time": "2023-02-23T19:15:29.692357",
     "exception": false,
     "start_time": "2023-02-23T19:15:29.674943",
     "status": "completed"
    },
    "tags": []
   },
   "outputs": [],
   "source": [
    "# Predict with your own tweet\n",
    "\n",
    "def pre(sentence):\n",
    "    yhat = predict_tweet(sentence, freq, theta)\n",
    "    if yhat > 0.5:\n",
    "        return 'Positive sentiment'\n",
    "    elif yhat == 0:\n",
    "        return 'Neutral sentiment'\n",
    "    else:\n",
    "        return 'Negative sentiment'"
   ]
  },
  {
   "cell_type": "code",
   "execution_count": null,
   "id": "1bc73a9b",
   "metadata": {
    "papermill": {
     "duration": 0.007681,
     "end_time": "2023-02-23T19:15:29.707635",
     "exception": false,
     "start_time": "2023-02-23T19:15:29.699954",
     "status": "completed"
    },
    "tags": []
   },
   "outputs": [],
   "source": []
  }
 ],
 "metadata": {
  "kernelspec": {
   "display_name": "Python 3",
   "language": "python",
   "name": "python3"
  },
  "language_info": {
   "codemirror_mode": {
    "name": "ipython",
    "version": 3
   },
   "file_extension": ".py",
   "mimetype": "text/x-python",
   "name": "python",
   "nbconvert_exporter": "python",
   "pygments_lexer": "ipython3",
   "version": "3.7.12"
  },
  "papermill": {
   "default_parameters": {},
   "duration": 25.04196,
   "end_time": "2023-02-23T19:15:30.736778",
   "environment_variables": {},
   "exception": null,
   "input_path": "__notebook__.ipynb",
   "output_path": "__notebook__.ipynb",
   "parameters": {},
   "start_time": "2023-02-23T19:15:05.694818",
   "version": "2.3.4"
  }
 },
 "nbformat": 4,
 "nbformat_minor": 5
}
